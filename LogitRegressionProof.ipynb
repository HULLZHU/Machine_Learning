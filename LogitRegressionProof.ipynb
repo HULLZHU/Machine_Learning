{
 "cells": [
  {
   "cell_type": "markdown",
   "metadata": {},
   "source": [
    "已知：\n",
    "$$P(y=1|x;\\theta) = h_{\\theta}(x)$$\n",
    "\n",
    "$$P(y=0|x;\\theta) = 1-h_{\\theta}(x)$$\n",
    "即\n",
    "$$P(y|x;\\theta) = (h_{\\theta}(x)^{y}(1-h_{\\theta}(x))^{1-y}\\ \\ \\ \\ \\ \\ \\ \\ \\ \\ \\ (1) \\ \\ \\ \\ \\ y=1 或0$$\n",
    "\n",
    "则当有n组独立的训练样本输入且输出n组训练结果时，其Y的联合概率密度为\n",
    "$$f(y|x;\\theta) = \\prod_{i=1}^{n}P(y^{(i)}|x^{(i)};\\theta)$$\n",
    "$$=\\prod_{i=1}^{n}(h_{\\theta}(x^{(i)}))^{y(i)}(1-h_{\\theta}(x^{(i)}))^{1-y(i)}$$\n",
    "\n",
    "则有最大似然函数\n",
    "$$L(\\theta)=\\prod_{i=1}^{n}(h_{\\theta}(x^{(i)}))^{y(i)}(1-h_{\\theta}(x^{(i)}))^{1-y(i)}$$\n",
    "则Log-Maximum Likelihood function 是\n",
    "$$l(\\theta) = logL(\\theta)=\\sum_{i=1}^{n}(y^{(i)}logh(x^{(i)})) + (1-y^{(i)})log(1-h(x^{(i)}))  \\ \\ \\ \\ \\ \\ \\ (2)\\ \\ \\ \\ \\ $$\n",
    "\n",
    "$$\\triangledown_{\\theta}l(\\theta)= \\begin{bmatrix}\\frac{\\partial l(\\theta)}{\\partial(\\theta_{1})}\\\\ .\\\\ .\\\\ . \\\\ \\frac{\\partial  l(\\theta)}{\\partial(\\theta_{d})}\\end{bmatrix}$$\n",
    "\n",
    "因为 $x^{(i)}$之间是相互独立的,所以我们可以令 $n=1$，即有一组输入$x$,一组输出$y$\n",
    "$$x= \\begin{bmatrix}x_{1}\\\\ .\\\\ .\\\\ . \\\\ x_{d}\\end{bmatrix}$$\n",
    "\n",
    "此时，$$l(\\theta) = y.logh(x) + (1-y)log(1-h(x))\\ \\ \\ \\ (3)\\ \\ \\ \\ $$\n",
    "其中，$$h(x) = \\frac{1}{1+e^{-\\theta^{T}x}}$$\n",
    "\n",
    "由于独立性，此时我们若要maximize式$(2)$仅需要maximize式$(3)$\n",
    "\n",
    "关于$\\theta_{j}求导$\n",
    "$$\\frac{\\partial l(\\theta)}{\\partial \\theta_j} = (y\\frac{1}{h(x)}-(1-y) \\frac{1}{1-h(x)})\\frac{\\partial h(x)}{\\partial\\theta_{j}}$$\n",
    "$$=(y\\frac {1}{h(x)} - (1-y) \\frac{1}{1-h(x)})*h(x)*(1-h(x))\\frac{\\partial \\theta^{T}x}{\\partial \\theta_{j}}$$\n",
    "$$=(y-h(x))x_{j}$$\n",
    "\n",
    "从而 $\\triangledown_{\\theta}l(\\theta) = $\n",
    "$$ \\begin{bmatrix}(y-h(x))x_{1}\\\\ .\\\\ .\\\\ . \\\\ (y-h(x))x_{d}\\end{bmatrix}$$\n",
    "\n",
    "$$=[x_{1},..........,x_{d}]* \\begin{bmatrix}(y-h(x)) \\\\ .\\\\ .\\\\ .\\\\ (y-h(x))\\end{bmatrix}  \\ \\ \\ \\ (4)$$\n",
    "\n",
    "$$根据惯例，X=\\begin{bmatrix} (x^{(1)})^{T}\\\\ .\\\\ .\\\\ . \\\\ (x^{(n)})^{T}\\end{bmatrix}$$\n",
    "\n",
    "从而，$$h_{\\theta}(x) = g(\\theta^{T}x)= g(x^{T}\\theta) = g(X\\theta)$$\n",
    "\n",
    "因此，$(4)$可以写成\n",
    "$\\triangledown_{\\theta}l(\\theta) = X^{T}(y-g(X\\theta))$\n"
   ]
  }
 ],
 "metadata": {
  "kernelspec": {
   "display_name": "Python 3",
   "language": "python",
   "name": "python3"
  },
  "language_info": {
   "codemirror_mode": {
    "name": "ipython",
    "version": 3
   },
   "file_extension": ".py",
   "mimetype": "text/x-python",
   "name": "python",
   "nbconvert_exporter": "python",
   "pygments_lexer": "ipython3",
   "version": "3.7.1"
  }
 },
 "nbformat": 4,
 "nbformat_minor": 2
}
