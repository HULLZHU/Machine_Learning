{
 "cells": [
  {
   "cell_type": "markdown",
   "metadata": {},
   "source": [
    "# 1.Classification"
   ]
  },
  {
   "cell_type": "markdown",
   "metadata": {},
   "source": [
    "## 1.1 Logistic Function (Binary Case)\n",
    "$$h_{\\theta}(x) = g(\\theta^{T}X) \\ \\ \\ \\ \\ \\ \\ \\ \\ \\ \\ (1)Logistic \\ \\ Function$$\n",
    "\n",
    "$$ Z = \\theta^{T}X \\ \\ \\ \\ \\ \\ \\ \\ \\ \\ \\ \\ \\ \\ \\ (2)Intermediate \\ \\ Variable$$\n",
    "\n",
    "<font color = 'red' >$$ h_{\\theta}(x) = g(z) = \\frac{1}{1+e^{-Z}} \\ \\ \\ \\ \\ \\ \\ \\ \\ \\ \\ \\ \\ (3)  Complete Format$$</font>"
   ]
  },
  {
   "cell_type": "code",
   "execution_count": 7,
   "metadata": {},
   "outputs": [
    {
     "data": {
      "image/png": "[encoded data removed]",
      "text/plain": [
       "<Figure size 432x288 with 1 Axes>"
      ]
     },
     "metadata": {
      "needs_background": "light"
     },
     "output_type": "display_data"
    }
   ],
   "source": [
    "import numpy as np\n",
    "import matplotlib.pyplot as plt\n",
    "\n",
    "Z = np.arange(-10,10,0.01)\n",
    "g = 1/(1+np.exp(-Z))\n",
    "plt.plot(Z,g)\n",
    "plt.grid(True)\n",
    "plt.xlabel('h(x)')\n",
    "plt.ylabel('g')\n",
    "plt.title('Logistic Function')\n",
    "plt.show()"
   ]
  },
  {
   "cell_type": "markdown",
   "metadata": {},
   "source": [
    "## 1.2 Output Function\n",
    "$$Y = 1 ,\\ \\ \\ \\ if \\ \\ \\ h_{\\theta}(x) > 0.5$$\n",
    "$$\\ \\ \\ \\ \\ \\ \\ \\ \\ \\ \\ \\ \\ \\ \\ \\ \\ \\ \\ \\ \\ \\ \\ \\ \\ \\ \\ \\ \\ \\ \\ \\ \\ \\ \\ \\ \\ \\ \\ \\ \\ \\ \\ \\ \\ \\ \\ \\ \\ \\ \\ \\ \\ \\ \\ \\ \\ \\ \\ \\ \\ \\ \\ \\ \\ \\ \\ \\ \\ \\ \\ \\ \\ \\ \\ (4)Output\\ \\ Rule$$\n",
    "$$Y = 0 ,\\ \\ \\ \\ if \\ \\ \\ h_{\\theta}(x) < 0.5$$ "
   ]
  },
  {
   "cell_type": "markdown",
   "metadata": {},
   "source": [
    "## 1.3 Explains on $h_{\\theta}(x) $"
   ]
  },
  {
   "cell_type": "markdown",
   "metadata": {},
   "source": [
    "$$h_{\\theta}(x) = P(Y=1|x;\\theta) = 1 - P(Y=0|x;\\theta)\\ \\ \\ \\ \\ \\ \\ \\ \\ \\ \\ (5)$$\n",
    "\n",
    "$$h_{\\theta}(x) = P(Y=1|x;\\theta)+ P(Y=0|x;\\theta) = 1 \\ \\ \\ \\ \\ \\ \\ \\ \\ \\ \\ (6)$$"
   ]
  },
  {
   "cell_type": "markdown",
   "metadata": {},
   "source": [
    "## 1.4 Decision Boundary "
   ]
  },
  {
   "cell_type": "markdown",
   "metadata": {},
   "source": [
    "<font color = 'red'>$$\\theta^{T}X = 0 \\ \\ \\ \\ \\ \\ \\ \\ \\ \\ \\ \\ \\ \\ \\ \\ \\ \\ (7)$$</font>"
   ]
  },
  {
   "cell_type": "markdown",
   "metadata": {},
   "source": [
    "## 1.5 Cost Function\n"
   ]
  },
  {
   "cell_type": "markdown",
   "metadata": {},
   "source": [
    "$$J(\\theta) = \\frac{1}{m}\\sum^{m}_{i=1}Cost(h_{\\theta}(x^{(i)}),y^{(i)})\\ \\ \\ \\ \\ \\ \\ \\ (8)$$"
   ]
  },
  {
   "cell_type": "markdown",
   "metadata": {},
   "source": [
    "$$Cost(h_{\\theta}(x),y)=-log(h_{\\theta}(x))\\ \\ \\ \\ \\ if \\ y = 1 \\ \\ \\ \\ \\ \\ \\ \\ \\ (9)$$\n",
    "$$Cost(h_{\\theta}(x),y) = -log(1-h_{\\theta}(x))\\ \\ if \\ y=0 \\ \\ \\ \\ \\ \\ \\ \\ (10)$$"
   ]
  },
  {
   "cell_type": "markdown",
   "metadata": {},
   "source": [
    "\n",
    "$$Cost(h_{\\theta}(x),y) \\rightarrow \\infty \\ \\  if y\\ =0\\ \\ and \\ h_{\\theta}(x)\\rightarrow 1\\ \\ \\ \\ \\ (11) $$ \n",
    "$$Cost(h_{\\theta}(x).y) \\rightarrow \\infty \\ \\ if \\ \\ y = 1 \\ and \\ h_{\\theta}(x)\\rightarrow0 \\ \\ \\ \\ \\ (12) $$"
   ]
  },
  {
   "cell_type": "markdown",
   "metadata": {},
   "source": [
    "## 1.6 Stochastic Gradient Ascent Rule##\n",
    "<font color ='green'>$$\\theta_{j}:=\\theta_{j}+\\alpha(y^{(i)}-h_{\\theta}(x^{(i)}))x_{j}^{(i)}$$</font>\n",
    "\n",
    "$$\\ \\ \\ \\ \\ \\ \\ \\ Proof:$$\n",
    "First we need to compute the derivative of g(z)\n",
    "$$g^{'}(z) = \\frac{d}{dz}\\frac{1}{1+e^{-z}}$$\n",
    "\n",
    "$$=\\frac{1}{(1+e^{-z})^{2}}(e^{-z})$$\n",
    "\n",
    "$$=\\frac{1}{1+e^{-z}}(1-\\frac{1}{1+e^{-z}})$$\n",
    "\n",
    "<font color='green'>$$=g(z)(1-g(z))\\ \\ \\ \\ \\ \\ \\ \\ \\ \\ (13)$$</font>\n",
    "\n",
    "Second we fit parameters(theta) for logit Regression via maximum likelihood estimator\n",
    "\n",
    "$$P(y=1|x;\\theta) = h_{\\theta}(x) $$\n",
    "$$P(y=0|x;\\theta) = 1-h_{\\theta}(x) $$\n",
    "\n",
    "Compact these 2 equations\n",
    "\n",
    "$$P(y|x;\\theta) = (h_{\\theta}(x))^{y}(1-h_{\\theta}(x))^{1-y} \\ \\ \\ \\ \\    (14)$$\n",
    "\n",
    "If n training examples were generated independently, we can have likelihood function\n",
    "$$L(\\theta) = L(\\theta;X,Y)= \\prod_{i=1}^{n}p(y^{(i)}|x^{(i)};\\theta)$$\n",
    "$$ = \\prod^{n}_{i=1}(h_{\\theta}(x^{(i)}))^{y^{(i)}}(1-h_{\\theta}(x^{(i)}))^{1-y^{(i)}} \\ \\ \\ \\ \\ \\ \\ \\ (15)$$ \n",
    "\n",
    "Log likelihood is:\n",
    "<font color ='red'>$$l(\\theta) = logL(\\theta) = \\sum_{i=1}^{n}(y^{(i)}logh(x^{(i)})+(1-y^{(i)})log(1-h(x^{(i)})) \\ \\ \\ \\ \\ \\ \\ \\ \\ \\ \\ \n",
    "$$</font>\n",
    "\n",
    "$$=y^{T}log(h) + (1-y)^{T}log(1-h) \\ \\ \\ \\ \\ \\ \\ \\ \\ \\ (16)$$\n",
    "\n",
    "<font color ='green'>$$Here\\ we\\ find \\ cost \\ functions\\ and\\ we\\ know\\ the\\ minimization\\ of\\ Cost\\ Function\\ is\\ as\\ the\\ same\\ as\\ the\\ maximize\\ the\\ likelihood\\ function $$</font>\n",
    "\n",
    "We use gradient descent to maximize the likelihood\n",
    "$$\\frac{\\partial l(\\theta)}{\\partial\\theta} = $$\n",
    "\n",
    "\n",
    "\n",
    "<font color='red'>$$=x^{T}(y-h) \\ \\ \\ \\ \\ \\ \\ \\ \\ \\ \\ \\ \\ \\ (17)$$</font>\n",
    "\n",
    "$$where:h_{\\theta}(x) = g(z) = \\frac{1}{1+e^{-\\theta^{T}X}}$$\n",
    "\n",
    "According to Gradient Ascent Rule:\n",
    "$$\\theta:= \\theta +\\alpha \\frac{\\partial l(\\theta)}{\\theta}$$\n",
    "\n",
    "<font size='5' color = 'red'>$$\\theta:=\\theta + \\alpha X^{T}(y-g(X\\theta))\\ \\ \\ \\ \\ \\ \\ \\ \\ \\ (18)\\ \\ \\ \\ \\ \\ \\ Iteration \\ \\ \\ Rule $$</font>"
   ]
  },
  {
   "cell_type": "markdown",
   "metadata": {},
   "source": [
    "## 1.7 Newton Method to Find Maximum Likelihood with respect to $ \\theta$\n",
    "$$\\theta:= \\theta - \\frac{f^{'}(\\theta)}{f(\\theta)}\\ \\ \\ \\ \\ \\ \\ \\ \\ \\ \\ \\  (19) \\ \\ \\ \\ \\ \\ \\ \\ Basic\\ Newton\\ Method$$\n",
    "$$\\theta := \\theta - \\frac{l^{'}(\\theta)}{l^{''}(\\theta)}\\ \\ \\ \\ \\ (20) \\ \\ \\ \\ Applicatin$$\n",
    "\n",
    "$$\\theta := \\theta − H^{-1}∇_{\\theta}ℓ(θ)\\ \\ \\ \\ \\ \\ \\ \\ (22) \\ \\ \\ Newton-Raphson\\ Method$$\n",
    "\n",
    "$$H_{ij}=\\frac{\\partial^{2}l(\\theta)}{\\partial{\\theta_{i}}\\partial{\\theta_{j}}}\\ \\ \\ \\ \\ \\ \\ (21)\\ \\  Hessian$$\n",
    "\n",
    "$\\ \\ \\ \\ \\ \\ \\ \\ \\ Attributes:$\n",
    "$1.Faster\\ Convergence \\ \\ \\  \\ $\n",
    "$2.Fewer Iterations \\ \\ \\ $\n",
    "$3.Expensive \\ when\\ matrix\\ is \\ large$\n",
    "\n"
   ]
  },
  {
   "cell_type": "code",
   "execution_count": null,
   "metadata": {},
   "outputs": [],
   "source": []
  }
 ],
 "metadata": {
  "kernelspec": {
   "display_name": "Python 3",
   "language": "python",
   "name": "python3"
  },
  "language_info": {
   "codemirror_mode": {
    "name": "ipython",
    "version": 3
   },
   "file_extension": ".py",
   "mimetype": "text/x-python",
   "name": "python",
   "nbconvert_exporter": "python",
   "pygments_lexer": "ipython3",
   "version": "3.7.1"
  }
 },
 "nbformat": 4,
 "nbformat_minor": 2
}
