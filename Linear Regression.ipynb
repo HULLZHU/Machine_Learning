{
 "cells": [
  {
   "cell_type": "markdown",
   "metadata": {},
   "source": [
    "#                         Linear Regression"
   ]
  },
  {
   "cell_type": "markdown",
   "metadata": {},
   "source": [
    "## 1.Basic Definition"
   ]
  },
  {
   "cell_type": "markdown",
   "metadata": {},
   "source": [
    "$$h_{\\theta}(x) = \\sum_{i=0}^{d}\\theta_{i}x_{i} = \\theta^{T}X \\ \\ \\ \\ \\ \\ \\ \\ \\ \\ \\ \\ \\ \\ \\ \\ \\ \\ \\ \\ \\ \\ \\ \\ \\ \\ \\ \\ \\ \\ \\ \\ \\ \\ \\ \\ (1)\\ \\ \\ Basic Format$$ \n",
    "\n",
    "\n",
    "$$\\theta=\\begin{bmatrix}\\theta_{1}\\\\.\\\\.\\\\. \\\\ \\theta_{d} \\end{bmatrix}\\ \\ \\ \\ \\ \\ \\ \\ \\ \\  X = \\begin{bmatrix} x_{1}\\\\.\\\\.\\\\.\\\\x_{d}\\end{bmatrix} \\\\ \\\\ \\\\ $$\n",
    "\n",
    "\n",
    "\n",
    "\n",
    "\n",
    "\n",
    "\n",
    "$$J(\\theta) = \\frac{1}{2}\\sum_{i=1}^{n} (h_{\\theta}x^{(i)}-y{(i)})^{2}  \\ \\ \\ \\ \\ \\ \\ \\ \\ \\ \\ \\ \\ \\ \\ \\ \\ \\ \\ \\ \\ \\ \\ \\ \\ \\ \\ \\ \\ \\ \\ \\ \\ (2)\\ \\ \\ \\ \\ \\ \\ Cost Function$$ "
   ]
  },
  {
   "cell_type": "markdown",
   "metadata": {},
   "source": [
    "## 2.Gradient Descent"
   ]
  },
  {
   "cell_type": "markdown",
   "metadata": {},
   "source": [
    "$$\\theta_{j}:= \\theta_{j} - \\alpha\\frac{\\partial}{\\partial \\theta_{j}}J(\\theta) \\ \\ \\ \\ \\ \\ \\ \\ \\ \\ \\ \\ \\ (3) \\ \\ \\ Gradient Descent Iteration$$\n",
    "\n",
    "$$\\theta_{j}:=\\theta_{j}- \\alpha X^{T}(X^{T}\\theta - Y)\\ \\ \\ \\ \\ \\ \\ \\ \\ \\ \\ \\ \\ \\ \\ \\ \\ \\ \\ \\ \\ \\ \\ \\ \\ \\ (4) \\ \\ \\ Matrix Format$$"
   ]
  },
  {
   "cell_type": "markdown",
   "metadata": {},
   "source": [
    "## 3.Least Square Method"
   ]
  },
  {
   "cell_type": "markdown",
   "metadata": {},
   "source": [
    "$$\\theta^{T} = (X^{T}X)^{-1}X^{T}Y \\ \\ \\ \\ \\ \\ \\ \\ \\ \\ \\ \\ \\ \\ (5)\\ \\ \\ Normal Equation $$"
   ]
  },
  {
   "cell_type": "markdown",
   "metadata": {},
   "source": [
    "## 4.Logrhythm Linear Regression"
   ]
  },
  {
   "cell_type": "markdown",
   "metadata": {},
   "source": [
    "$$ln(Y) = \\theta^{T}X + b \\ \\ \\ \\ \\ \\ \\ \\ \\ \\ \\ \\ \\ \\ \\ \\ \\ \\ (6)$$\n",
    "$$Y = e^{\\theta^{T}X + b} \\ \\ \\ \\ \\ \\ \\ \\ \\ \\ \\ \\ \\ \\ \\ \\ \\  \\ \\ \\ (7)$$"
   ]
  },
  {
   "cell_type": "markdown",
   "metadata": {},
   "source": [
    "## 5.Generalized Linear Model"
   ]
  },
  {
   "cell_type": "markdown",
   "metadata": {},
   "source": [
    "$$ Y = g^{-1}（\\theta^{T}X + b）\\ \\ \\ \\ \\ \\ \\ \\ \\ \\ \\ \\  (8)$$\n",
    "$$ g(Y) = \\theta^{T}X + b \\ \\ \\ \\ \\ \\ \\ \\ \\ \\ \\ \\ \\ \\ \\ \\ (9) $$"
   ]
  },
  {
   "cell_type": "markdown",
   "metadata": {},
   "source": [
    "## 6.Locally Weighted Linear Regression"
   ]
  },
  {
   "cell_type": "markdown",
   "metadata": {},
   "source": [
    "$$argmin_{\\theta}\\sum_{i}\\omega^{i}(y^{i}-\\theta^{T}x^{i}) \\ \\ \\ \\ \\ \\ \\ \\ \\ \\ \\ \\ \\ \\ \\ \\ \\ (10) \\ \\ \\ Objective\\ Function$$    \n",
    "\n",
    "\n",
    "$$\\omega^{i} = exp(-\\frac{(x^{(i)}-x)^{2}}{2\\tau^{2}}) \\ \\ \\ \\ \\ \\ \\ \\ \\ \\ \\ \\ (11) \\ \\ \\ \\ \\ Standard\\  Weight$$"
   ]
  },
  {
   "cell_type": "code",
   "execution_count": null,
   "metadata": {},
   "outputs": [],
   "source": []
  }
 ],
 "metadata": {
  "kernelspec": {
   "display_name": "Python 3",
   "language": "python",
   "name": "python3"
  },
  "language_info": {
   "codemirror_mode": {
    "name": "ipython",
    "version": 3
   },
   "file_extension": ".py",
   "mimetype": "text/x-python",
   "name": "python",
   "nbconvert_exporter": "python",
   "pygments_lexer": "ipython3",
   "version": "3.7.1"
  }
 },
 "nbformat": 4,
 "nbformat_minor": 2
}
